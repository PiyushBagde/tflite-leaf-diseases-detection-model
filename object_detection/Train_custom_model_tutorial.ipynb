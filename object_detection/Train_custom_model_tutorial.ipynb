{
  "cells": [
    {
      "cell_type": "markdown",
      "metadata": {
        "id": "PpJEzDG6DK2Q"
      },
      "source": [
        "# Train a custom object detection model with TensorFlow Lite Model Maker\n",
        "\n",
        "In this colab notebook, you'll learn how to use the [TensorFlow Lite Model Maker](https://www.tensorflow.org/lite/guide/model_maker) to train a custom object detection model to detect Android figurines and how to put the model on a Raspberry Pi.\n",
        "\n",
        "The Model Maker library uses *transfer learning* to simplify the process of training a TensorFlow Lite model using a custom dataset. Retraining a TensorFlow Lite model with your own custom dataset reduces the amount of training data required and will shorten the training time.\n"
      ]
    },
    {
      "cell_type": "markdown",
      "metadata": {
        "id": "BRYjtwRZGBOI"
      },
      "source": [
        "## Preparation\n",
        "\n",
        "### Install the required packages\n",
        "Start by installing the required packages, including the Model Maker package from the [GitHub repo](https://github.com/tensorflow/examples/tree/master/tensorflow_examples/lite/model_maker) and the pycocotools library you'll use for evaluation."
      ]
    },
    {
      "cell_type": "code",
      "execution_count": 1,
      "metadata": {
        "colab": {
          "base_uri": "https://localhost:8080/"
        },
        "id": "35BJmtVpAP_n",
        "outputId": "ca9186f3-97eb-4bb0-f554-2968e9ba25da"
      },
      "outputs": [
        {
          "output_type": "stream",
          "name": "stdout",
          "text": [
            "\u001b[2K     \u001b[90m━━━━━━━━━━━━━━━━━━━━━━━━━━━━━━━━━━━━━━\u001b[0m \u001b[32m577.3/577.3 KB\u001b[0m \u001b[31m36.5 MB/s\u001b[0m eta \u001b[36m0:00:00\u001b[0m\n",
            "\u001b[2K     \u001b[90m━━━━━━━━━━━━━━━━━━━━━━━━━━━━━━━━━━━━━━━━\u001b[0m \u001b[32m10.9/10.9 MB\u001b[0m \u001b[31m73.4 MB/s\u001b[0m eta \u001b[36m0:00:00\u001b[0m\n",
            "\u001b[2K     \u001b[90m━━━━━━━━━━━━━━━━━━━━━━━━━━━━━━━━━━━━━━━━\u001b[0m \u001b[32m60.8/60.8 MB\u001b[0m \u001b[31m13.1 MB/s\u001b[0m eta \u001b[36m0:00:00\u001b[0m\n",
            "\u001b[2K     \u001b[90m━━━━━━━━━━━━━━━━━━━━━━━━━━━━━━━━━━━━━━━━\u001b[0m \u001b[32m1.1/1.1 MB\u001b[0m \u001b[31m52.4 MB/s\u001b[0m eta \u001b[36m0:00:00\u001b[0m\n",
            "\u001b[2K     \u001b[90m━━━━━━━━━━━━━━━━━━━━━━━━━━━━━━━━━━━━━━\u001b[0m \u001b[32m238.9/238.9 KB\u001b[0m \u001b[31m26.1 MB/s\u001b[0m eta \u001b[36m0:00:00\u001b[0m\n",
            "\u001b[2K     \u001b[90m━━━━━━━━━━━━━━━━━━━━━━━━━━━━━━━━━━━━━━\u001b[0m \u001b[32m840.9/840.9 KB\u001b[0m \u001b[31m66.4 MB/s\u001b[0m eta \u001b[36m0:00:00\u001b[0m\n",
            "\u001b[2K     \u001b[90m━━━━━━━━━━━━━━━━━━━━━━━━━━━━━━━━━━━━━━━━\u001b[0m \u001b[32m77.5/77.5 KB\u001b[0m \u001b[31m10.3 MB/s\u001b[0m eta \u001b[36m0:00:00\u001b[0m\n",
            "\u001b[2K     \u001b[90m━━━━━━━━━━━━━━━━━━━━━━━━━━━━━━━━━━━━━━\u001b[0m \u001b[32m128.6/128.6 KB\u001b[0m \u001b[31m17.4 MB/s\u001b[0m eta \u001b[36m0:00:00\u001b[0m\n",
            "\u001b[2K     \u001b[90m━━━━━━━━━━━━━━━━━━━━━━━━━━━━━━━━━━━━━━━━\u001b[0m \u001b[32m3.4/3.4 MB\u001b[0m \u001b[31m87.6 MB/s\u001b[0m eta \u001b[36m0:00:00\u001b[0m\n",
            "\u001b[2K     \u001b[90m━━━━━━━━━━━━━━━━━━━━━━━━━━━━━━━━━━━━━━━━\u001b[0m \u001b[32m10.3/10.3 MB\u001b[0m \u001b[31m72.1 MB/s\u001b[0m eta \u001b[36m0:00:00\u001b[0m\n",
            "\u001b[2K     \u001b[90m━━━━━━━━━━━━━━━━━━━━━━━━━━━━━━━━━━━━━━━━\u001b[0m \u001b[32m88.3/88.3 KB\u001b[0m \u001b[31m10.5 MB/s\u001b[0m eta \u001b[36m0:00:00\u001b[0m\n",
            "\u001b[?25h  Preparing metadata (setup.py) ... \u001b[?25l\u001b[?25hdone\n",
            "\u001b[2K     \u001b[90m━━━━━━━━━━━━━━━━━━━━━━━━━━━━━━━━━━━━━━━━\u001b[0m \u001b[32m1.3/1.3 MB\u001b[0m \u001b[31m60.1 MB/s\u001b[0m eta \u001b[36m0:00:00\u001b[0m\n",
            "\u001b[2K     \u001b[90m━━━━━━━━━━━━━━━━━━━━━━━━━━━━━━━━━━━━━━━━\u001b[0m \u001b[32m25.3/25.3 MB\u001b[0m \u001b[31m45.5 MB/s\u001b[0m eta \u001b[36m0:00:00\u001b[0m\n",
            "\u001b[2K     \u001b[90m━━━━━━━━━━━━━━━━━━━━━━━━━━━━━━━━━━━━━━━\u001b[0m \u001b[32m498.0/498.0 MB\u001b[0m \u001b[31m3.2 MB/s\u001b[0m eta \u001b[36m0:00:00\u001b[0m\n",
            "\u001b[2K     \u001b[90m━━━━━━━━━━━━━━━━━━━━━━━━━━━━━━━━━━━━━━\u001b[0m \u001b[32m352.1/352.1 KB\u001b[0m \u001b[31m34.5 MB/s\u001b[0m eta \u001b[36m0:00:00\u001b[0m\n",
            "\u001b[2K     \u001b[90m━━━━━━━━━━━━━━━━━━━━━━━━━━━━━━━━━━━━━━\u001b[0m \u001b[32m462.3/462.3 KB\u001b[0m \u001b[31m46.3 MB/s\u001b[0m eta \u001b[36m0:00:00\u001b[0m\n",
            "\u001b[2K     \u001b[90m━━━━━━━━━━━━━━━━━━━━━━━━━━━━━━━━━━━━━━━━\u001b[0m \u001b[32m42.6/42.6 KB\u001b[0m \u001b[31m5.7 MB/s\u001b[0m eta \u001b[36m0:00:00\u001b[0m\n",
            "\u001b[2K     \u001b[90m━━━━━━━━━━━━━━━━━━━━━━━━━━━━━━━━━━━━━━━━\u001b[0m \u001b[32m5.8/5.8 MB\u001b[0m \u001b[31m107.6 MB/s\u001b[0m eta \u001b[36m0:00:00\u001b[0m\n",
            "\u001b[2K     \u001b[90m━━━━━━━━━━━━━━━━━━━━━━━━━━━━━━━━━━━━━━━━\u001b[0m \u001b[32m1.4/1.4 MB\u001b[0m \u001b[31m87.0 MB/s\u001b[0m eta \u001b[36m0:00:00\u001b[0m\n",
            "\u001b[2K     \u001b[90m━━━━━━━━━━━━━━━━━━━━━━━━━━━━━━━━━━━━━━━━\u001b[0m \u001b[32m40.9/40.9 KB\u001b[0m \u001b[31m5.0 MB/s\u001b[0m eta \u001b[36m0:00:00\u001b[0m\n",
            "\u001b[2K     \u001b[90m━━━━━━━━━━━━━━━━━━━━━━━━━━━━━━━━━━━━━━\u001b[0m \u001b[32m222.4/222.4 KB\u001b[0m \u001b[31m24.4 MB/s\u001b[0m eta \u001b[36m0:00:00\u001b[0m\n",
            "\u001b[?25h  Building wheel for fire (setup.py) ... \u001b[?25l\u001b[?25hdone\n",
            "\u001b[31mERROR: pip's dependency resolver does not currently take into account all the packages that are installed. This behaviour is the source of the following dependency conflicts.\n",
            "xarray 2022.12.0 requires packaging>=21.3, but you have packaging 20.9 which is incompatible.\u001b[0m\u001b[31m\n",
            "\u001b[0m"
          ]
        }
      ],
      "source": [
        "!pip install -q tflite-model-maker\n",
        "!pip install -q tflite-support"
      ]
    },
    {
      "cell_type": "markdown",
      "metadata": {
        "id": "prQ86DdtD317"
      },
      "source": [
        "Import the required packages."
      ]
    },
    {
      "cell_type": "code",
      "execution_count": 2,
      "metadata": {
        "id": "l4QQTXHHATDS",
        "colab": {
          "base_uri": "https://localhost:8080/"
        },
        "outputId": "e171e05c-f4a5-4bda-f12d-0a3319419cf0"
      },
      "outputs": [
        {
          "output_type": "stream",
          "name": "stderr",
          "text": [
            "/usr/local/lib/python3.8/dist-packages/tensorflow_addons/utils/ensure_tf_install.py:53: UserWarning: Tensorflow Addons supports using Python ops for all Tensorflow versions above or equal to 2.9.0 and strictly below 2.12.0 (nightly versions are not supported). \n",
            " The versions of TensorFlow you are currently using is 2.8.4 and is not supported. \n",
            "Some things might work, some things might not.\n",
            "If you were to encounter a bug, do not file an issue.\n",
            "If you want to make sure you're using a tested and supported configuration, either change the TensorFlow version or the TensorFlow Addons's version. \n",
            "You can find the compatibility matrix in TensorFlow Addon's readme:\n",
            "https://github.com/tensorflow/addons\n",
            "  warnings.warn(\n"
          ]
        }
      ],
      "source": [
        "import numpy as np\n",
        "import os\n",
        "\n",
        "from tflite_model_maker.config import ExportFormat, QuantizationConfig\n",
        "from tflite_model_maker import model_spec\n",
        "from tflite_model_maker import object_detector\n",
        "\n",
        "from tflite_support import metadata\n",
        "\n",
        "import tensorflow as tf\n",
        "assert tf.__version__.startswith('2')\n",
        "\n",
        "tf.get_logger().setLevel('ERROR')\n",
        "from absl import logging\n",
        "logging.set_verbosity(logging.ERROR)"
      ]
    },
    {
      "cell_type": "code",
      "execution_count": 3,
      "metadata": {
        "colab": {
          "base_uri": "https://localhost:8080/"
        },
        "id": "8AGg7D4JAV62",
        "outputId": "7655c998-4c81-433b-aea2-13bef0db1962"
      },
      "outputs": [
        {
          "output_type": "stream",
          "name": "stdout",
          "text": [
            "--2023-02-25 08:46:28--  https://www.dropbox.com/s/qw5bl5tnmfk9etv/Android.zip?dl=0\n",
            "Resolving www.dropbox.com (www.dropbox.com)... 162.125.81.18, 2620:100:6031:18::a27d:5112\n",
            "Connecting to www.dropbox.com (www.dropbox.com)|162.125.81.18|:443... connected.\n",
            "HTTP request sent, awaiting response... 302 Found\n",
            "Location: /s/raw/qw5bl5tnmfk9etv/Android.zip [following]\n",
            "--2023-02-25 08:46:28--  https://www.dropbox.com/s/raw/qw5bl5tnmfk9etv/Android.zip\n",
            "Reusing existing connection to www.dropbox.com:443.\n",
            "HTTP request sent, awaiting response... 302 Found\n",
            "Location: https://uc5e91fa38e997d0f795877fe353.dl.dropboxusercontent.com/cd/0/inline/B3IzJVCyq-J3VstNVwaX7Ecdu-8tvCyuVRRQgpUtEY8u9TVm_U1Oe3jyRn2Mo2aXB-s-ucMHhVv4rT_yqd6-pR5_R6AyLSqwDrc6OLQtaJ8klz8O4y8oEc-OFvbCWkbgVixnX2-tul0gK4Zn6LwotYhqtrbMiltZBjt27XdCD_Hblw/file# [following]\n",
            "--2023-02-25 08:46:29--  https://uc5e91fa38e997d0f795877fe353.dl.dropboxusercontent.com/cd/0/inline/B3IzJVCyq-J3VstNVwaX7Ecdu-8tvCyuVRRQgpUtEY8u9TVm_U1Oe3jyRn2Mo2aXB-s-ucMHhVv4rT_yqd6-pR5_R6AyLSqwDrc6OLQtaJ8klz8O4y8oEc-OFvbCWkbgVixnX2-tul0gK4Zn6LwotYhqtrbMiltZBjt27XdCD_Hblw/file\n",
            "Resolving uc5e91fa38e997d0f795877fe353.dl.dropboxusercontent.com (uc5e91fa38e997d0f795877fe353.dl.dropboxusercontent.com)... 162.125.81.15, 2620:100:6017:15::a27d:20f\n",
            "Connecting to uc5e91fa38e997d0f795877fe353.dl.dropboxusercontent.com (uc5e91fa38e997d0f795877fe353.dl.dropboxusercontent.com)|162.125.81.15|:443... connected.\n",
            "HTTP request sent, awaiting response... 302 Found\n",
            "Location: /cd/0/inline2/B3K2fhcM7_ly1G3pua0kJJLr8iO9gKo7B4xVFdzNMYW_k0f8xPGxETWdk9IWoiDTSEotyoXWF2yUlqH_J0CV9jQqbr-czzrnNe_nIKBDhz6uu6xS32XeoUsg-5xW7bevAD1chgxNNS04l-SWBUQ3s4vUixA_pgMpyxhWhLlxo3x8O_QMtYoveKle9UOf9CgymuREvxTXUYH3T9n7HC77VDYr6hjNo_iH6CBFEcKVBV7Irjx17CIeFqvYMCUF8_7bLcN_YTqaP5wvUUwqVFkSZoYxOz470o__0a5ooLOTU9LvkJb7yWAlTRoQB2bdPhPwljavVrUQJk9cdH1seWISrlONOeMDWXSBv1tqPL1o6Kb5UAbDf0k_Rclp4CFhp5Zi7oC2U5uZuFKyte80xJIGqlcmOFbUbzVYxw51snFcLLMltA/file [following]\n",
            "--2023-02-25 08:46:29--  https://uc5e91fa38e997d0f795877fe353.dl.dropboxusercontent.com/cd/0/inline2/B3K2fhcM7_ly1G3pua0kJJLr8iO9gKo7B4xVFdzNMYW_k0f8xPGxETWdk9IWoiDTSEotyoXWF2yUlqH_J0CV9jQqbr-czzrnNe_nIKBDhz6uu6xS32XeoUsg-5xW7bevAD1chgxNNS04l-SWBUQ3s4vUixA_pgMpyxhWhLlxo3x8O_QMtYoveKle9UOf9CgymuREvxTXUYH3T9n7HC77VDYr6hjNo_iH6CBFEcKVBV7Irjx17CIeFqvYMCUF8_7bLcN_YTqaP5wvUUwqVFkSZoYxOz470o__0a5ooLOTU9LvkJb7yWAlTRoQB2bdPhPwljavVrUQJk9cdH1seWISrlONOeMDWXSBv1tqPL1o6Kb5UAbDf0k_Rclp4CFhp5Zi7oC2U5uZuFKyte80xJIGqlcmOFbUbzVYxw51snFcLLMltA/file\n",
            "Reusing existing connection to uc5e91fa38e997d0f795877fe353.dl.dropboxusercontent.com:443.\n",
            "HTTP request sent, awaiting response... 200 OK\n",
            "Length: 52112719 (50M) [application/zip]\n",
            "Saving to: ‘/content/android_figurine.zip’\n",
            "\n",
            "/content/android_fi 100%[===================>]  49.70M  16.2MB/s    in 3.1s    \n",
            "\n",
            "2023-02-25 08:46:33 (16.2 MB/s) - ‘/content/android_figurine.zip’ saved [52112719/52112719]\n",
            "\n"
          ]
        }
      ],
      "source": [
        "!wget -O /content/android_figurine.zip https://www.dropbox.com/s/qw5bl5tnmfk9etv/Android.zip?dl=0\n",
        "!unzip -q android_figurine.zip"
      ]
    },
    {
      "cell_type": "markdown",
      "metadata": {
        "id": "Yxh3KInCFeB-"
      },
      "source": [
        "## Train the object detection model\n",
        "\n",
        "### Step 1: Load the dataset\n",
        "\n",
        "* Images in `train_data` is used to train the custom object detection model.\n",
        "* Images in `val_data` is used to check if the model can generalize well to new images that it hasn't seen before."
      ]
    },
    {
      "cell_type": "code",
      "execution_count": 5,
      "metadata": {
        "id": "WiAahdsQAdT7"
      },
      "outputs": [],
      "source": [
        "train_data = object_detector.DataLoader.from_pascal_voc(\n",
        "    'android_figurine/train',\n",
        "    'android_figurine/train',\n",
        "    ['Tomato_Yellow_Leaf_Curl_Virus','Target_Spot','Late_blight','Septoria_leaf_spot','Early_blight','Spider_mites Two-spotted_spider_mite','Leaf_Mold','Bacterial_spot','Tomato_mosaic_virus','Tomato__healthy']\n",
        ")\n",
        "\n",
        "val_data = object_detector.DataLoader.from_pascal_voc(\n",
        "    'android_figurine/validate',\n",
        "    'android_figurine/validate',\n",
        "    ['Tomato_Yellow_Leaf_Curl_Virus','Target_Spot','Late_blight','Septoria_leaf_spot','Early_blight','Spider_mites Two-spotted_spider_mite','Leaf_Mold','Bacterial_spot','Tomato_mosaic_virus','Tomato__healthy']\n",
        ")"
      ]
    },
    {
      "cell_type": "markdown",
      "metadata": {
        "id": "UNRhB8N7GHXj"
      },
      "source": [
        "### Step 2: Select a model architecture\n",
        "\n",
        "EfficientDet-Lite[0-4] are a family of mobile/IoT-friendly object detection models derived from the [EfficientDet](https://arxiv.org/abs/1911.09070) architecture.\n",
        "\n",
        "Here is the performance of each EfficientDet-Lite models compared to each others.\n",
        "\n",
        "| Model architecture | Size(MB)* | Latency(ms)** | Average Precision*** |\n",
        "|--------------------|-----------|---------------|----------------------|\n",
        "| EfficientDet-Lite0 | 4.4       | 146           | 25.69%               |\n",
        "| EfficientDet-Lite1 | 5.8       | 259           | 30.55%               |\n",
        "| EfficientDet-Lite2 | 7.2       | 396           | 33.97%               |\n",
        "| EfficientDet-Lite3 | 11.4      | 716           | 37.70%               |\n",
        "| EfficientDet-Lite4 | 19.9      | 1886          | 41.96%               |\n",
        "\n",
        "<i> * Size of the integer quantized models. <br/>\n",
        "** Latency measured on Raspberry Pi 4 using 4 threads on CPU. <br/>\n",
        "*** Average Precision is the mAP (mean Average Precision) on the COCO 2017 validation dataset.\n",
        "</i>\n",
        "\n",
        "In this notebook, we use EfficientDet-Lite0 to train our model. You can choose other model architectures depending on whether speed or accuracy is more important to you."
      ]
    },
    {
      "cell_type": "code",
      "execution_count": 6,
      "metadata": {
        "id": "GZOojrDHAY1J"
      },
      "outputs": [],
      "source": [
        "spec = model_spec.get('efficientdet_lite0')"
      ]
    },
    {
      "cell_type": "markdown",
      "metadata": {
        "id": "5aeDU4mIM4ft"
      },
      "source": [
        "### Step 3: Train the TensorFlow model with the training data.\n",
        "\n",
        "* Set `epochs = 20`, which means it will go through the training dataset 20 times. You can look at the validation accuracy during training and stop when you see validation loss (`val_loss`) stop decreasing to avoid overfitting.\n",
        "* Set `batch_size = 4` here so you will see that it takes 15 steps to go through the 62 images in the training dataset.\n",
        "* Set `train_whole_model=True` to fine-tune the whole model instead of just training the head layer to improve accuracy. The trade-off is that it may take longer to train the model."
      ]
    },
    {
      "cell_type": "code",
      "execution_count": 7,
      "metadata": {
        "colab": {
          "base_uri": "https://localhost:8080/"
        },
        "id": "_MClfpsJAfda",
        "outputId": "94522d21-754b-41f8-badc-9c5d87474487"
      },
      "outputs": [
        {
          "output_type": "stream",
          "name": "stdout",
          "text": [
            "Epoch 1/20\n",
            "492/492 [==============================] - 135s 190ms/step - det_loss: 0.9349 - cls_loss: 0.7998 - box_loss: 0.0027 - reg_l2_loss: 0.0646 - loss: 0.9995 - learning_rate: 0.0065 - gradient_norm: 2.1240 - val_det_loss: 0.7362 - val_cls_loss: 0.6569 - val_box_loss: 0.0016 - val_reg_l2_loss: 0.0647 - val_loss: 0.8009\n",
            "Epoch 2/20\n",
            "492/492 [==============================] - 91s 185ms/step - det_loss: 0.5888 - cls_loss: 0.5423 - box_loss: 9.2996e-04 - reg_l2_loss: 0.0647 - loss: 0.6535 - learning_rate: 0.0049 - gradient_norm: 2.1944 - val_det_loss: 0.6062 - val_cls_loss: 0.5482 - val_box_loss: 0.0012 - val_reg_l2_loss: 0.0647 - val_loss: 0.6709\n",
            "Epoch 3/20\n",
            "492/492 [==============================] - 93s 190ms/step - det_loss: 0.5121 - cls_loss: 0.4731 - box_loss: 7.7865e-04 - reg_l2_loss: 0.0648 - loss: 0.5768 - learning_rate: 0.0048 - gradient_norm: 2.4254 - val_det_loss: 0.5180 - val_cls_loss: 0.4707 - val_box_loss: 9.4525e-04 - val_reg_l2_loss: 0.0648 - val_loss: 0.5828\n",
            "Epoch 4/20\n",
            "492/492 [==============================] - 90s 183ms/step - det_loss: 0.4653 - cls_loss: 0.4321 - box_loss: 6.6453e-04 - reg_l2_loss: 0.0648 - loss: 0.5302 - learning_rate: 0.0046 - gradient_norm: 2.6443 - val_det_loss: 0.5264 - val_cls_loss: 0.4739 - val_box_loss: 0.0011 - val_reg_l2_loss: 0.0649 - val_loss: 0.5913\n",
            "Epoch 5/20\n",
            "492/492 [==============================] - 135s 275ms/step - det_loss: 0.4298 - cls_loss: 0.3991 - box_loss: 6.1229e-04 - reg_l2_loss: 0.0649 - loss: 0.4947 - learning_rate: 0.0043 - gradient_norm: 2.7045 - val_det_loss: 0.5927 - val_cls_loss: 0.5517 - val_box_loss: 8.1981e-04 - val_reg_l2_loss: 0.0649 - val_loss: 0.6576\n",
            "Epoch 6/20\n",
            "492/492 [==============================] - 92s 187ms/step - det_loss: 0.4037 - cls_loss: 0.3739 - box_loss: 5.9581e-04 - reg_l2_loss: 0.0650 - loss: 0.4687 - learning_rate: 0.0040 - gradient_norm: 3.0070 - val_det_loss: 0.4022 - val_cls_loss: 0.3642 - val_box_loss: 7.6046e-04 - val_reg_l2_loss: 0.0650 - val_loss: 0.4672\n",
            "Epoch 7/20\n",
            "492/492 [==============================] - 90s 183ms/step - det_loss: 0.3763 - cls_loss: 0.3490 - box_loss: 5.4630e-04 - reg_l2_loss: 0.0650 - loss: 0.4413 - learning_rate: 0.0037 - gradient_norm: 3.0669 - val_det_loss: 0.4310 - val_cls_loss: 0.4024 - val_box_loss: 5.7104e-04 - val_reg_l2_loss: 0.0651 - val_loss: 0.4960\n",
            "Epoch 8/20\n",
            "492/492 [==============================] - 91s 185ms/step - det_loss: 0.3618 - cls_loss: 0.3354 - box_loss: 5.2878e-04 - reg_l2_loss: 0.0651 - loss: 0.4269 - learning_rate: 0.0033 - gradient_norm: 3.1578 - val_det_loss: 0.4380 - val_cls_loss: 0.3821 - val_box_loss: 0.0011 - val_reg_l2_loss: 0.0651 - val_loss: 0.5031\n",
            "Epoch 9/20\n",
            "492/492 [==============================] - 92s 186ms/step - det_loss: 0.3350 - cls_loss: 0.3102 - box_loss: 4.9470e-04 - reg_l2_loss: 0.0651 - loss: 0.4001 - learning_rate: 0.0029 - gradient_norm: 3.2192 - val_det_loss: 0.3254 - val_cls_loss: 0.2967 - val_box_loss: 5.7264e-04 - val_reg_l2_loss: 0.0652 - val_loss: 0.3905\n",
            "Epoch 10/20\n",
            "492/492 [==============================] - 127s 258ms/step - det_loss: 0.3202 - cls_loss: 0.2955 - box_loss: 4.9445e-04 - reg_l2_loss: 0.0652 - loss: 0.3854 - learning_rate: 0.0025 - gradient_norm: 3.3547 - val_det_loss: 0.2975 - val_cls_loss: 0.2678 - val_box_loss: 5.9473e-04 - val_reg_l2_loss: 0.0652 - val_loss: 0.3627\n",
            "Epoch 11/20\n",
            "492/492 [==============================] - 93s 189ms/step - det_loss: 0.3009 - cls_loss: 0.2768 - box_loss: 4.8145e-04 - reg_l2_loss: 0.0652 - loss: 0.3661 - learning_rate: 0.0021 - gradient_norm: 3.4441 - val_det_loss: 0.3933 - val_cls_loss: 0.3639 - val_box_loss: 5.8726e-04 - val_reg_l2_loss: 0.0652 - val_loss: 0.4585\n",
            "Epoch 12/20\n",
            "492/492 [==============================] - 90s 182ms/step - det_loss: 0.2897 - cls_loss: 0.2670 - box_loss: 4.5442e-04 - reg_l2_loss: 0.0652 - loss: 0.3549 - learning_rate: 0.0017 - gradient_norm: 3.5193 - val_det_loss: 0.3012 - val_cls_loss: 0.2758 - val_box_loss: 5.0804e-04 - val_reg_l2_loss: 0.0652 - val_loss: 0.3665\n",
            "Epoch 13/20\n",
            "492/492 [==============================] - 94s 191ms/step - det_loss: 0.2784 - cls_loss: 0.2577 - box_loss: 4.1237e-04 - reg_l2_loss: 0.0652 - loss: 0.3436 - learning_rate: 0.0013 - gradient_norm: 3.4789 - val_det_loss: 0.3052 - val_cls_loss: 0.2796 - val_box_loss: 5.1167e-04 - val_reg_l2_loss: 0.0652 - val_loss: 0.3704\n",
            "Epoch 14/20\n",
            "492/492 [==============================] - 92s 188ms/step - det_loss: 0.2601 - cls_loss: 0.2398 - box_loss: 4.0518e-04 - reg_l2_loss: 0.0652 - loss: 0.3253 - learning_rate: 9.6622e-04 - gradient_norm: 3.5604 - val_det_loss: 0.2631 - val_cls_loss: 0.2377 - val_box_loss: 5.0698e-04 - val_reg_l2_loss: 0.0652 - val_loss: 0.3283\n",
            "Epoch 15/20\n",
            "492/492 [==============================] - 126s 257ms/step - det_loss: 0.2527 - cls_loss: 0.2322 - box_loss: 4.1075e-04 - reg_l2_loss: 0.0652 - loss: 0.3179 - learning_rate: 6.6279e-04 - gradient_norm: 3.6345 - val_det_loss: 0.2591 - val_cls_loss: 0.2331 - val_box_loss: 5.1977e-04 - val_reg_l2_loss: 0.0652 - val_loss: 0.3243\n",
            "Epoch 16/20\n",
            "492/492 [==============================] - 91s 186ms/step - det_loss: 0.2383 - cls_loss: 0.2191 - box_loss: 3.8354e-04 - reg_l2_loss: 0.0652 - loss: 0.3035 - learning_rate: 4.0948e-04 - gradient_norm: 3.4519 - val_det_loss: 0.2477 - val_cls_loss: 0.2228 - val_box_loss: 4.9701e-04 - val_reg_l2_loss: 0.0652 - val_loss: 0.3129\n",
            "Epoch 17/20\n",
            "492/492 [==============================] - 94s 191ms/step - det_loss: 0.2354 - cls_loss: 0.2163 - box_loss: 3.8049e-04 - reg_l2_loss: 0.0652 - loss: 0.3006 - learning_rate: 2.1318e-04 - gradient_norm: 3.4469 - val_det_loss: 0.2299 - val_cls_loss: 0.2070 - val_box_loss: 4.5680e-04 - val_reg_l2_loss: 0.0652 - val_loss: 0.2951\n",
            "Epoch 18/20\n",
            "492/492 [==============================] - 89s 182ms/step - det_loss: 0.2329 - cls_loss: 0.2146 - box_loss: 3.6598e-04 - reg_l2_loss: 0.0652 - loss: 0.2981 - learning_rate: 7.9271e-05 - gradient_norm: 3.5007 - val_det_loss: 0.2342 - val_cls_loss: 0.2111 - val_box_loss: 4.6146e-04 - val_reg_l2_loss: 0.0652 - val_loss: 0.2994\n",
            "Epoch 19/20\n",
            "492/492 [==============================] - 92s 187ms/step - det_loss: 0.2395 - cls_loss: 0.2197 - box_loss: 3.9546e-04 - reg_l2_loss: 0.0652 - loss: 0.3047 - learning_rate: 1.1387e-05 - gradient_norm: 3.5380 - val_det_loss: 0.2324 - val_cls_loss: 0.2093 - val_box_loss: 4.6097e-04 - val_reg_l2_loss: 0.0652 - val_loss: 0.2976\n",
            "Epoch 20/20\n",
            "492/492 [==============================] - 128s 260ms/step - det_loss: 0.2314 - cls_loss: 0.2126 - box_loss: 3.7666e-04 - reg_l2_loss: 0.0652 - loss: 0.2967 - learning_rate: 1.1387e-05 - gradient_norm: 3.5380 - val_det_loss: 0.2331 - val_cls_loss: 0.2093 - val_box_loss: 4.7556e-04 - val_reg_l2_loss: 0.0652 - val_loss: 0.2983\n"
          ]
        }
      ],
      "source": [
        "model = object_detector.create(train_data, model_spec=spec, batch_size=4, train_whole_model=True, epochs=20, validation_data=val_data)"
      ]
    },
    {
      "cell_type": "markdown",
      "metadata": {
        "id": "KB4hKeerMmh4"
      },
      "source": [
        "### Step 4. Evaluate the model with the validation data.\n",
        "\n",
        "After training the object detection model using the images in the training dataset, use the 10 images in the validation dataset to evaluate how the model performs against new data it has never seen before.\n",
        "\n",
        "As the default batch size is 64, it will take 1 step to go through the 10 images in the validation dataset.\n",
        "\n",
        "The evaluation metrics are same as [COCO](https://cocodataset.org/#detection-eval)."
      ]
    },
    {
      "cell_type": "code",
      "execution_count": 8,
      "metadata": {
        "colab": {
          "base_uri": "https://localhost:8080/"
        },
        "id": "OUqEpcYwAg8L",
        "outputId": "58b537a5-34a4-40e1-cba4-66e8016eb0e9"
      },
      "outputs": [
        {
          "output_type": "stream",
          "name": "stdout",
          "text": [
            "16/16 [==============================] - 53s 2s/step\n",
            "\n"
          ]
        },
        {
          "output_type": "execute_result",
          "data": {
            "text/plain": [
              "{'AP': 0.8684994,\n",
              " 'AP50': 0.96662474,\n",
              " 'AP75': 0.95895004,\n",
              " 'APs': 0.0,\n",
              " 'APm': -1.0,\n",
              " 'APl': 0.8690137,\n",
              " 'ARmax1': 0.9087673,\n",
              " 'ARmax10': 0.9265486,\n",
              " 'ARmax100': 0.9265486,\n",
              " 'ARs': 0.0,\n",
              " 'ARm': -1.0,\n",
              " 'ARl': 0.92747587,\n",
              " 'AP_/Tomato_Yellow_Leaf_Curl_Virus': 0.9191686,\n",
              " 'AP_/Target_Spot': 0.86839765,\n",
              " 'AP_/Late_blight': 0.8535492,\n",
              " 'AP_/Septoria_leaf_spot': 0.85214335,\n",
              " 'AP_/Early_blight': 0.82571554,\n",
              " 'AP_/Spider_mites Two-spotted_spider_mite': 0.84576434,\n",
              " 'AP_/Leaf_Mold': 0.8493872,\n",
              " 'AP_/Bacterial_spot': 0.9253462,\n",
              " 'AP_/Tomato_mosaic_virus': 0.8411948,\n",
              " 'AP_/Tomato__healthy': 0.90432703}"
            ]
          },
          "metadata": {},
          "execution_count": 8
        }
      ],
      "source": [
        "model.evaluate(val_data)"
      ]
    },
    {
      "cell_type": "markdown",
      "metadata": {
        "id": "NARVYk9rGLIl"
      },
      "source": [
        "### Step 5: Export as a TensorFlow Lite model.\n",
        "\n",
        "Export the trained object detection model to the TensorFlow Lite format by specifying which folder you want to export the quantized model to. The default post-training quantization technique is [full integer quantization](https://www.tensorflow.org/lite/performance/post_training_integer_quant). This allows the TensorFlow Lite model to be smaller, run faster on Raspberry Pi CPU and also compatible with the Google Coral EdgeTPU."
      ]
    },
    {
      "cell_type": "code",
      "execution_count": 11,
      "metadata": {
        "id": "_u3eFxoBAiqE"
      },
      "outputs": [],
      "source": [
        "model.export(export_dir='.', tflite_filename='android.tflite')"
      ]
    },
    {
      "cell_type": "markdown",
      "metadata": {
        "id": "JZcBmEigOCO3"
      },
      "source": [
        "### Step 6:  Evaluate the TensorFlow Lite model.\n",
        "\n",
        "Several factors can affect the model accuracy when exporting to TFLite:\n",
        "* [Quantization](https://www.tensorflow.org/lite/performance/model_optimization) helps shrinking the model size by 4 times at the expense of some accuracy drop.\n",
        "* The original TensorFlow model uses per-class [non-max supression (NMS)](https://www.coursera.org/lecture/convolutional-neural-networks/non-max-suppression-dvrjH) for post-processing, while the TFLite model uses global NMS that's much faster but less accurate.\n",
        "Keras outputs maximum 100 detections while tflite outputs maximum 25 detections.\n",
        "\n",
        "Therefore you'll have to evaluate the exported TFLite model and compare its accuracy with the original TensorFlow model."
      ]
    },
    {
      "cell_type": "code",
      "execution_count": 12,
      "metadata": {
        "colab": {
          "base_uri": "https://localhost:8080/"
        },
        "id": "Jbl8z9_wBPlr",
        "outputId": "04b05ef3-98a9-413d-9121-e54861ec458d"
      },
      "outputs": [
        {
          "output_type": "stream",
          "name": "stdout",
          "text": [
            "993/993 [==============================] - 2899s 3s/step\n",
            "\n"
          ]
        },
        {
          "output_type": "execute_result",
          "data": {
            "text/plain": [
              "{'AP': 0.8249797,\n",
              " 'AP50': 0.92656606,\n",
              " 'AP75': 0.91939986,\n",
              " 'APs': 0.0,\n",
              " 'APm': -1.0,\n",
              " 'APl': 0.825037,\n",
              " 'ARmax1': 0.8600813,\n",
              " 'ARmax10': 0.8605725,\n",
              " 'ARmax100': 0.8605725,\n",
              " 'ARs': 0.0,\n",
              " 'ARm': -1.0,\n",
              " 'ARl': 0.8614482,\n",
              " 'AP_/Tomato_Yellow_Leaf_Curl_Virus': 0.8775556,\n",
              " 'AP_/Target_Spot': 0.69544625,\n",
              " 'AP_/Late_blight': 0.83480495,\n",
              " 'AP_/Septoria_leaf_spot': 0.8322114,\n",
              " 'AP_/Early_blight': 0.7450145,\n",
              " 'AP_/Spider_mites Two-spotted_spider_mite': 0.8177728,\n",
              " 'AP_/Leaf_Mold': 0.8292727,\n",
              " 'AP_/Bacterial_spot': 0.89130396,\n",
              " 'AP_/Tomato_mosaic_virus': 0.82421213,\n",
              " 'AP_/Tomato__healthy': 0.90220296}"
            ]
          },
          "metadata": {},
          "execution_count": 12
        }
      ],
      "source": [
        "model.evaluate_tflite('android.tflite', val_data)"
      ]
    },
    {
      "cell_type": "code",
      "execution_count": 13,
      "metadata": {
        "colab": {
          "base_uri": "https://localhost:8080/",
          "height": 17
        },
        "id": "v7zgUkdOUUnD",
        "outputId": "2d00bdf2-bdb3-4c69-9725-9e1e25f8069d"
      },
      "outputs": [
        {
          "output_type": "display_data",
          "data": {
            "text/plain": [
              "<IPython.core.display.Javascript object>"
            ],
            "application/javascript": [
              "\n",
              "    async function download(id, filename, size) {\n",
              "      if (!google.colab.kernel.accessAllowed) {\n",
              "        return;\n",
              "      }\n",
              "      const div = document.createElement('div');\n",
              "      const label = document.createElement('label');\n",
              "      label.textContent = `Downloading \"${filename}\": `;\n",
              "      div.appendChild(label);\n",
              "      const progress = document.createElement('progress');\n",
              "      progress.max = size;\n",
              "      div.appendChild(progress);\n",
              "      document.body.appendChild(div);\n",
              "\n",
              "      const buffers = [];\n",
              "      let downloaded = 0;\n",
              "\n",
              "      const channel = await google.colab.kernel.comms.open(id);\n",
              "      // Send a message to notify the kernel that we're ready.\n",
              "      channel.send({})\n",
              "\n",
              "      for await (const message of channel.messages) {\n",
              "        // Send a message to notify the kernel that we're ready.\n",
              "        channel.send({})\n",
              "        if (message.buffers) {\n",
              "          for (const buffer of message.buffers) {\n",
              "            buffers.push(buffer);\n",
              "            downloaded += buffer.byteLength;\n",
              "            progress.value = downloaded;\n",
              "          }\n",
              "        }\n",
              "      }\n",
              "      const blob = new Blob(buffers, {type: 'application/binary'});\n",
              "      const a = document.createElement('a');\n",
              "      a.href = window.URL.createObjectURL(blob);\n",
              "      a.download = filename;\n",
              "      div.appendChild(a);\n",
              "      a.click();\n",
              "      div.remove();\n",
              "    }\n",
              "  "
            ]
          },
          "metadata": {}
        },
        {
          "output_type": "display_data",
          "data": {
            "text/plain": [
              "<IPython.core.display.Javascript object>"
            ],
            "application/javascript": [
              "download(\"download_ac25e9e4-05ef-4a86-81fa-5a86fcc1912c\", \"android.tflite\", 4456122)"
            ]
          },
          "metadata": {}
        }
      ],
      "source": [
        "# Download the TFLite model to your local computer.\n",
        "from google.colab import files\n",
        "files.download('android.tflite')"
      ]
    },
    {
      "cell_type": "markdown",
      "metadata": {
        "id": "wnqktl45PZRy"
      },
      "source": [
        "## Test the Android figurine detection model\n",
        "\n",
        "After training the model, let's test it with an image that the model hasn't seen before to get a sense of how good the model is."
      ]
    },
    {
      "cell_type": "code",
      "execution_count": 14,
      "metadata": {
        "cellView": "form",
        "id": "9ZsLQtJ1AlW_"
      },
      "outputs": [],
      "source": [
        "#@title Load the trained TFLite model and define some visualization functions\n",
        "\n",
        "#@markdown This code comes from the TFLite Object Detection [Raspberry Pi sample](https://github.com/tensorflow/examples/tree/master/lite/examples/object_detection/raspberry_pi).\n",
        "\n",
        "import platform\n",
        "from typing import List, NamedTuple\n",
        "import json\n",
        "\n",
        "import cv2\n",
        "\n",
        "Interpreter = tf.lite.Interpreter\n",
        "load_delegate = tf.lite.experimental.load_delegate\n",
        "\n",
        "# pylint: enable=g-import-not-at-top\n",
        "\n",
        "\n",
        "class ObjectDetectorOptions(NamedTuple):\n",
        "  \"\"\"A config to initialize an object detector.\"\"\"\n",
        "\n",
        "  enable_edgetpu: bool = False\n",
        "  \"\"\"Enable the model to run on EdgeTPU.\"\"\"\n",
        "\n",
        "  label_allow_list: List[str] = None\n",
        "  \"\"\"The optional allow list of labels.\"\"\"\n",
        "\n",
        "  label_deny_list: List[str] = None\n",
        "  \"\"\"The optional deny list of labels.\"\"\"\n",
        "\n",
        "  max_results: int = -1\n",
        "  \"\"\"The maximum number of top-scored detection results to return.\"\"\"\n",
        "\n",
        "  num_threads: int = 1\n",
        "  \"\"\"The number of CPU threads to be used.\"\"\"\n",
        "\n",
        "  score_threshold: float = 0.0\n",
        "  \"\"\"The score threshold of detection results to return.\"\"\"\n",
        "\n",
        "\n",
        "class Rect(NamedTuple):\n",
        "  \"\"\"A rectangle in 2D space.\"\"\"\n",
        "  left: float\n",
        "  top: float\n",
        "  right: float\n",
        "  bottom: float\n",
        "\n",
        "\n",
        "class Category(NamedTuple):\n",
        "  \"\"\"A result of a classification task.\"\"\"\n",
        "  label: str\n",
        "  score: float\n",
        "  index: int\n",
        "\n",
        "\n",
        "class Detection(NamedTuple):\n",
        "  \"\"\"A detected object as the result of an ObjectDetector.\"\"\"\n",
        "  bounding_box: Rect\n",
        "  categories: List[Category]\n",
        "\n",
        "\n",
        "def edgetpu_lib_name():\n",
        "  \"\"\"Returns the library name of EdgeTPU in the current platform.\"\"\"\n",
        "  return {\n",
        "      'Darwin': 'libedgetpu.1.dylib',\n",
        "      'Linux': 'libedgetpu.so.1',\n",
        "      'Windows': 'edgetpu.dll',\n",
        "  }.get(platform.system(), None)\n",
        "\n",
        "\n",
        "class ObjectDetector:\n",
        "  \"\"\"A wrapper class for a TFLite object detection model.\"\"\"\n",
        "\n",
        "  _OUTPUT_LOCATION_NAME = 'location'\n",
        "  _OUTPUT_CATEGORY_NAME = 'category'\n",
        "  _OUTPUT_SCORE_NAME = 'score'\n",
        "  _OUTPUT_NUMBER_NAME = 'number of detections'\n",
        "\n",
        "  def __init__(\n",
        "      self,\n",
        "      model_path: str,\n",
        "      options: ObjectDetectorOptions = ObjectDetectorOptions()\n",
        "  ) -> None:\n",
        "    \"\"\"Initialize a TFLite object detection model.\n",
        "    Args:\n",
        "        model_path: Path to the TFLite model.\n",
        "        options: The config to initialize an object detector. (Optional)\n",
        "    Raises:\n",
        "        ValueError: If the TFLite model is invalid.\n",
        "        OSError: If the current OS isn't supported by EdgeTPU.\n",
        "    \"\"\"\n",
        "\n",
        "    # Load metadata from model.\n",
        "    displayer = metadata.MetadataDisplayer.with_model_file(model_path)\n",
        "\n",
        "    # Save model metadata for preprocessing later.\n",
        "    model_metadata = json.loads(displayer.get_metadata_json())\n",
        "    process_units = model_metadata['subgraph_metadata'][0]['input_tensor_metadata'][0]['process_units']\n",
        "    mean = 0.0\n",
        "    std = 1.0\n",
        "    for option in process_units:\n",
        "      if option['options_type'] == 'NormalizationOptions':\n",
        "        mean = option['options']['mean'][0]\n",
        "        std = option['options']['std'][0]\n",
        "    self._mean = mean\n",
        "    self._std = std\n",
        "\n",
        "    # Load label list from metadata.\n",
        "    file_name = displayer.get_packed_associated_file_list()[0]\n",
        "    label_map_file = displayer.get_associated_file_buffer(file_name).decode()\n",
        "    label_list = list(filter(lambda x: len(x) > 0, label_map_file.splitlines()))\n",
        "    self._label_list = label_list\n",
        "\n",
        "    # Initialize TFLite model.\n",
        "    if options.enable_edgetpu:\n",
        "      if edgetpu_lib_name() is None:\n",
        "        raise OSError(\"The current OS isn't supported by Coral EdgeTPU.\")\n",
        "      interpreter = Interpreter(\n",
        "          model_path=model_path,\n",
        "          experimental_delegates=[load_delegate(edgetpu_lib_name())],\n",
        "          num_threads=options.num_threads)\n",
        "    else:\n",
        "      interpreter = Interpreter(\n",
        "          model_path=model_path, num_threads=options.num_threads)\n",
        "\n",
        "    interpreter.allocate_tensors()\n",
        "    input_detail = interpreter.get_input_details()[0]\n",
        "\n",
        "    # From TensorFlow 2.6, the order of the outputs become undefined.\n",
        "    # Therefore we need to sort the tensor indices of TFLite outputs and to know\n",
        "    # exactly the meaning of each output tensor. For example, if\n",
        "    # output indices are [601, 599, 598, 600], tensor names and indices aligned\n",
        "    # are:\n",
        "    #   - location: 598\n",
        "    #   - category: 599\n",
        "    #   - score: 600\n",
        "    #   - detection_count: 601\n",
        "    # because of the op's ports of TFLITE_DETECTION_POST_PROCESS\n",
        "    # (https://github.com/tensorflow/tensorflow/blob/a4fe268ea084e7d323133ed7b986e0ae259a2bc7/tensorflow/lite/kernels/detection_postprocess.cc#L47-L50).\n",
        "    sorted_output_indices = sorted(\n",
        "        [output['index'] for output in interpreter.get_output_details()])\n",
        "    self._output_indices = {\n",
        "        self._OUTPUT_LOCATION_NAME: sorted_output_indices[0],\n",
        "        self._OUTPUT_CATEGORY_NAME: sorted_output_indices[1],\n",
        "        self._OUTPUT_SCORE_NAME: sorted_output_indices[2],\n",
        "        self._OUTPUT_NUMBER_NAME: sorted_output_indices[3],\n",
        "    }\n",
        "\n",
        "    self._input_size = input_detail['shape'][2], input_detail['shape'][1]\n",
        "    self._is_quantized_input = input_detail['dtype'] == np.uint8\n",
        "    self._interpreter = interpreter\n",
        "    self._options = options\n",
        "\n",
        "  def detect(self, input_image: np.ndarray) -> List[Detection]:\n",
        "    \"\"\"Run detection on an input image.\n",
        "    Args:\n",
        "        input_image: A [height, width, 3] RGB image. Note that height and width\n",
        "          can be anything since the image will be immediately resized according\n",
        "          to the needs of the model within this function.\n",
        "    Returns:\n",
        "        A Person instance.\n",
        "    \"\"\"\n",
        "    image_height, image_width, _ = input_image.shape\n",
        "\n",
        "    input_tensor = self._preprocess(input_image)\n",
        "\n",
        "    self._set_input_tensor(input_tensor)\n",
        "    self._interpreter.invoke()\n",
        "\n",
        "    # Get all output details\n",
        "    boxes = self._get_output_tensor(self._OUTPUT_LOCATION_NAME)\n",
        "    classes = self._get_output_tensor(self._OUTPUT_CATEGORY_NAME)\n",
        "    scores = self._get_output_tensor(self._OUTPUT_SCORE_NAME)\n",
        "    count = int(self._get_output_tensor(self._OUTPUT_NUMBER_NAME))\n",
        "\n",
        "    return self._postprocess(boxes, classes, scores, count, image_width,\n",
        "                             image_height)\n",
        "\n",
        "  def _preprocess(self, input_image: np.ndarray) -> np.ndarray:\n",
        "    \"\"\"Preprocess the input image as required by the TFLite model.\"\"\"\n",
        "\n",
        "    # Resize the input\n",
        "    input_tensor = cv2.resize(input_image, self._input_size)\n",
        "\n",
        "    # Normalize the input if it's a float model (aka. not quantized)\n",
        "    if not self._is_quantized_input:\n",
        "      input_tensor = (np.float32(input_tensor) - self._mean) / self._std\n",
        "\n",
        "    # Add batch dimension\n",
        "    input_tensor = np.expand_dims(input_tensor, axis=0)\n",
        "\n",
        "    return input_tensor\n",
        "\n",
        "  def _set_input_tensor(self, image):\n",
        "    \"\"\"Sets the input tensor.\"\"\"\n",
        "    tensor_index = self._interpreter.get_input_details()[0]['index']\n",
        "    input_tensor = self._interpreter.tensor(tensor_index)()[0]\n",
        "    input_tensor[:, :] = image\n",
        "\n",
        "  def _get_output_tensor(self, name):\n",
        "    \"\"\"Returns the output tensor at the given index.\"\"\"\n",
        "    output_index = self._output_indices[name]\n",
        "    tensor = np.squeeze(self._interpreter.get_tensor(output_index))\n",
        "    return tensor\n",
        "\n",
        "  def _postprocess(self, boxes: np.ndarray, classes: np.ndarray,\n",
        "                   scores: np.ndarray, count: int, image_width: int,\n",
        "                   image_height: int) -> List[Detection]:\n",
        "    \"\"\"Post-process the output of TFLite model into a list of Detection objects.\n",
        "    Args:\n",
        "        boxes: Bounding boxes of detected objects from the TFLite model.\n",
        "        classes: Class index of the detected objects from the TFLite model.\n",
        "        scores: Confidence scores of the detected objects from the TFLite model.\n",
        "        count: Number of detected objects from the TFLite model.\n",
        "        image_width: Width of the input image.\n",
        "        image_height: Height of the input image.\n",
        "    Returns:\n",
        "        A list of Detection objects detected by the TFLite model.\n",
        "    \"\"\"\n",
        "    results = []\n",
        "\n",
        "    # Parse the model output into a list of Detection entities.\n",
        "    for i in range(count):\n",
        "      if scores[i] >= self._options.score_threshold:\n",
        "        y_min, x_min, y_max, x_max = boxes[i]\n",
        "        bounding_box = Rect(\n",
        "            top=int(y_min * image_height),\n",
        "            left=int(x_min * image_width),\n",
        "            bottom=int(y_max * image_height),\n",
        "            right=int(x_max * image_width))\n",
        "        class_id = int(classes[i])\n",
        "        category = Category(\n",
        "            score=scores[i],\n",
        "            label=self._label_list[class_id],  # 0 is reserved for background\n",
        "            index=class_id)\n",
        "        result = Detection(bounding_box=bounding_box, categories=[category])\n",
        "        results.append(result)\n",
        "\n",
        "    # Sort detection results by score ascending\n",
        "    sorted_results = sorted(\n",
        "        results,\n",
        "        key=lambda detection: detection.categories[0].score,\n",
        "        reverse=True)\n",
        "\n",
        "    # Filter out detections in deny list\n",
        "    filtered_results = sorted_results\n",
        "    if self._options.label_deny_list is not None:\n",
        "      filtered_results = list(\n",
        "          filter(\n",
        "              lambda detection: detection.categories[0].label not in self.\n",
        "              _options.label_deny_list, filtered_results))\n",
        "\n",
        "    # Keep only detections in allow list\n",
        "    if self._options.label_allow_list is not None:\n",
        "      filtered_results = list(\n",
        "          filter(\n",
        "              lambda detection: detection.categories[0].label in self._options.\n",
        "              label_allow_list, filtered_results))\n",
        "\n",
        "    # Only return maximum of max_results detection.\n",
        "    if self._options.max_results > 0:\n",
        "      result_count = min(len(filtered_results), self._options.max_results)\n",
        "      filtered_results = filtered_results[:result_count]\n",
        "\n",
        "    return filtered_results\n",
        "\n",
        "\n",
        "_MARGIN = 10  # pixels\n",
        "_ROW_SIZE = 10  # pixels\n",
        "_FONT_SIZE = 1\n",
        "_FONT_THICKNESS = 1\n",
        "_TEXT_COLOR = (0, 0, 255)  # red\n",
        "\n",
        "\n",
        "def visualize(\n",
        "    image: np.ndarray,\n",
        "    detections: List[Detection],\n",
        ") -> np.ndarray:\n",
        "  \"\"\"Draws bounding boxes on the input image and return it.\n",
        "  Args:\n",
        "    image: The input RGB image.\n",
        "    detections: The list of all \"Detection\" entities to be visualize.\n",
        "  Returns:\n",
        "    Image with bounding boxes.\n",
        "  \"\"\"\n",
        "  for detection in detections:\n",
        "    # Draw bounding_box\n",
        "    start_point = detection.bounding_box.left, detection.bounding_box.top\n",
        "    end_point = detection.bounding_box.right, detection.bounding_box.bottom\n",
        "    cv2.rectangle(image, start_point, end_point, _TEXT_COLOR, 3)\n",
        "\n",
        "    # Draw label and score\n",
        "    category = detection.categories[0]\n",
        "    class_name = category.label\n",
        "    probability = round(category.score, 2)\n",
        "    result_text = class_name + ' (' + str(probability) + ')'\n",
        "    text_location = (_MARGIN + detection.bounding_box.left,\n",
        "                     _MARGIN + _ROW_SIZE + detection.bounding_box.top)\n",
        "    cv2.putText(image, result_text, text_location, cv2.FONT_HERSHEY_PLAIN,\n",
        "                _FONT_SIZE, _TEXT_COLOR, _FONT_THICKNESS)\n",
        "\n",
        "  return image"
      ]
    },
    {
      "cell_type": "code",
      "execution_count": 16,
      "metadata": {
        "cellView": "form",
        "colab": {
          "base_uri": "https://localhost:8080/",
          "height": 273
        },
        "id": "1t1z2fKlAoB0",
        "outputId": "6c4d95f1-5843-4b52-bc66-01a47f146916"
      },
      "outputs": [
        {
          "output_type": "execute_result",
          "data": {
            "text/plain": [
              "<PIL.Image.Image image mode=RGB size=256x256 at 0x7F94F96E9D60>"
            ],
            "image/png": "[encoded data removed]"
          },
          "metadata": {},
          "execution_count": 16
        }
      ],
      "source": [
        "#@title Run object detection and show the detection results\n",
        "\n",
        "from PIL import Image\n",
        "\n",
        "INPUT_IMAGE_URL = \"https://www.dropbox.com/s/j9t8g1m3tmdjwrz/33028adc-9dc2-4ac3-a7b9-7094200264f6___GCREC_Bact.Sp%203162.JPG?dl=0\" #@param {type:\"string\"}\n",
        "DETECTION_THRESHOLD = 0.5 #@param {type:\"number\"}\n",
        "TFLITE_MODEL_PATH = \"android.tflite\" #@param {type:\"string\"}\n",
        "\n",
        "TEMP_FILE = '/tmp/image.png'\n",
        "\n",
        "!wget -q -O $TEMP_FILE $INPUT_IMAGE_URL\n",
        "image = Image.open(TEMP_FILE).convert('RGB')\n",
        "image.thumbnail((512, 512), Image.ANTIALIAS)\n",
        "image_np = np.asarray(image)\n",
        "\n",
        "# Load the TFLite model\n",
        "options = ObjectDetectorOptions(\n",
        "      num_threads=4,\n",
        "      score_threshold=DETECTION_THRESHOLD,\n",
        ")\n",
        "detector = ObjectDetector(model_path=TFLITE_MODEL_PATH, options=options)\n",
        "\n",
        "# Run object detection estimation using the model.\n",
        "detections = detector.detect(image_np)\n",
        "\n",
        "# Draw keypoints and edges on input image\n",
        "image_np = visualize(image_np, detections)\n",
        "\n",
        "# Show the detection result\n",
        "Image.fromarray(image_np)"
      ]
    }
  ],
  "metadata": {
    "accelerator": "GPU",
    "colab": {
      "name": "Model Maker Object Detection for Android Figurine",
      "provenance": []
    },
    "kernelspec": {
      "display_name": "Python 3",
      "name": "python3"
    },
    "language_info": {
      "name": "python"
    }
  },
  "nbformat": 4,
  "nbformat_minor": 0
}